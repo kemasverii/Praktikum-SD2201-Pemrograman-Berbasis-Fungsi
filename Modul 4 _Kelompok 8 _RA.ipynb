{
 "cells": [
  {
   "cell_type": "code",
   "execution_count": 11,
   "metadata": {},
   "outputs": [
    {
     "name": "stdout",
     "output_type": "stream",
     "text": [
      "Nilai outliers ditemukan pada kolom'data': [110]\n",
      "Nilai outliers ditemukan pada kolom'umur': [90]\n"
     ]
    }
   ],
   "source": [
    "import numpy as np\n",
    "import pandas as pd\n",
    "\n",
    "def outlier_detector(method='IQR'):\n",
    "    def detect(data):\n",
    "        if method == 'IQR':\n",
    "            outliers = {}\n",
    "            for column in data.columns:\n",
    "                Q1, Q3 = np.percentile(data[column], [25, 75])\n",
    "                IQR = Q3 - Q1\n",
    "                lower_bound = Q1 - (1.5 * IQR)\n",
    "                upper_bound = Q3 + (1.5 * IQR)\n",
    "                outliers[column] = [x for x in data[column] if x < lower_bound or x > upper_bound]\n",
    "            return outliers\n",
    "        else:\n",
    "            raise ValueError(\"Metode Tidak Didukung\")\n",
    "\n",
    "    return detect\n",
    "\n",
    "\n",
    "def read_dataset(path):\n",
    "    try:\n",
    "        data = pd.read_csv(path) \n",
    "        return data\n",
    "    except FileNotFoundError:\n",
    "        print(\"File tidak ditemukan !, silahkan periksa kembali file yang akan digunakan.\")\n",
    "        return None\n",
    "\n",
    "# Contoh penggunaan\n",
    "path_to_dataset = 'dataset1.csv'  \n",
    "dataset = read_dataset(path_to_dataset)\n",
    "if dataset is not None:\n",
    "    outlier_detection = outlier_detector()\n",
    "    outliers = outlier_detection(dataset)``\n",
    "    for column, outlier_values in outliers.items():\n",
    "        if outlier_values:\n",
    "            print(f\"Nilai outliers ditemukan pada kolom'{column}':\", outlier_values)\n",
    "        else:\n",
    "            print(f\"Tidak ditemukan outlier di kolom '{column}'.\")\n"
   ]
  }
 ],
 "metadata": {
  "kernelspec": {
   "display_name": "Python 3",
   "language": "python",
   "name": "python3"
  },
  "language_info": {
   "codemirror_mode": {
    "name": "ipython",
    "version": 3
   },
   "file_extension": ".py",
   "mimetype": "text/x-python",
   "name": "python",
   "nbconvert_exporter": "python",
   "pygments_lexer": "ipython3",
   "version": "3.11.5"
  }
 },
 "nbformat": 4,
 "nbformat_minor": 2
}
