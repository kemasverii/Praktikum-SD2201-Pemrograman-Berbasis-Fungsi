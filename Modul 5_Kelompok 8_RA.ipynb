{
  "nbformat": 4,
  "nbformat_minor": 0,
  "metadata": {
    "colab": {
      "provenance": []
    },
    "kernelspec": {
      "name": "python3",
      "display_name": "Python 3"
    },
    "language_info": {
      "name": "python"
    }
  },
  "cells": [
    {
      "cell_type": "code",
      "execution_count": 8,
      "metadata": {
        "colab": {
          "base_uri": "https://localhost:8080/"
        },
        "id": "9Z6CU3x5Fqcz",
        "outputId": "eb7c233f-d521-4669-c847-57dacfdcd519"
      },
      "outputs": [
        {
          "output_type": "stream",
          "name": "stdout",
          "text": [
            "Merekam Aktivitas...\n",
            "Menyimpan Aktivitas - Jarak: 5 km, Kalori: 47.16\n",
            "Merekam Aktivitas...\n",
            "Menyimpan Aktivitas - Jarak: 3 km, Kalori: 405.60\n",
            "Total Jarak: 8 km, Total kalori: 452.76\n"
          ]
        }
      ],
      "source": [
        "def fitness_tracker():\n",
        "    kalori = 0\n",
        "    total_jarak = 0\n",
        "    total_kalori = 0\n",
        "\n",
        "    def record_activity(durasi, jarak,berat_badan):\n",
        "        nonlocal total_jarak, total_kalori, kalori\n",
        "        total_jarak += jarak\n",
        "        mets = 3.5 #pengeluaran kalori selama aktivitas fisik lari\n",
        "        kalori = durasi * (mets * 3.5 * berat_badan) / 200\n",
        "        total_kalori = total_kalori + kalori\n",
        "        print(f\"Menyimpan Aktivitas - Jarak: {jarak} km, Kalori: {kalori:.2f}\")\n",
        "\n",
        "    def get_summary():\n",
        "        return total_jarak, total_kalori\n",
        "\n",
        "    return record_activity, get_summary\n",
        "\n",
        "\n",
        "def logging_decorator(func):\n",
        "    def wrapper(durasi, jarak, berat_badan):\n",
        "        print(\"Merekam Aktivitas...\")\n",
        "        func(durasi, jarak, berat_badan)\n",
        "    return wrapper\n",
        "\n",
        "\n",
        "record_activity, get_summary = fitness_tracker()\n",
        "\n",
        "record_activity = logging_decorator(record_activity)\n",
        "\n",
        "record_activity(10,5, 77)\n",
        "record_activity(86, 3, 77)\n",
        "\n",
        "total_jarak, total_kalori = get_summary()\n",
        "print(f\"Total Jarak: {total_jarak} km, Total kalori: {total_kalori:.2f}\")"
      ]
    }
  ]
}