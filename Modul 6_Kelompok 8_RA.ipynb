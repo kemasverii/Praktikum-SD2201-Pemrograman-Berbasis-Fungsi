{
  "nbformat": 4,
  "nbformat_minor": 0,
  "metadata": {
    "colab": {
      "provenance": []
    },
    "kernelspec": {
      "name": "python3",
      "display_name": "Python 3"
    },
    "language_info": {
      "name": "python"
    }
  },
  "cells": [
    {
      "cell_type": "code",
      "source": [
        "import numpy as np\n",
        "import pandas as pd\n",
        "from functools import reduce\n",
        "\n",
        "def deteksi_outlier(method='IQR'):\n",
        "    def deteksi(data):\n",
        "        if method == 'IQR':\n",
        "            outliers = {}\n",
        "\n",
        "            def outlier(x):\n",
        "                Q1, Q3 = np.percentile(data[x], [25, 75])\n",
        "                IQR = Q3 - Q1\n",
        "                batas_bawah = Q1 - (1.5 * IQR)\n",
        "                batas_atas = Q3 + (1.5 * IQR)\n",
        "                return lambda x: x <   batas_bawah or x > batas_atas\n",
        "\n",
        "            for column in data.columns:\n",
        "                outliers[column] = list(filter(is_outlier(column), data[column]))\n",
        "\n",
        "            return outliers\n",
        "        else:\n",
        "            raise ValueError(\"Metode Tidak Didukung\")\n",
        "\n",
        "    return deteksi\n",
        "\n",
        "def open_dataset(path):\n",
        "    try:\n",
        "        data = pd.read_csv(path)\n",
        "        return data\n",
        "    except FileNotFoundError:\n",
        "        print(\"File tidak ditemukan! Silakan periksa kembali file yang akan digunakan.\")\n",
        "        return None\n",
        "\n",
        "# Contoh penggunaan\n",
        "path_to_dataset = '/content/Iris.csv'\n",
        "dataset = read_dataset(path_to_dataset)\n",
        "\n",
        "if dataset is not None:\n",
        "    deteksi_outlier= outlier_detector()\n",
        "    outliers = outlier_detection(dataset)\n",
        "\n",
        "    for column, outlier_values in outliers.items():\n",
        "        if outlier_values:\n",
        "            print(f\"Nilai outliers ditemukan pada kolom '{column}':\", outlier_values)\n",
        "        else:\n",
        "            print(f\"Tidak ditemukan outlier di kolom '{column}'.\")\n"
      ],
      "metadata": {
        "colab": {
          "base_uri": "https://localhost:8080/"
        },
        "id": "mbqttqkzYDAY",
        "outputId": "dccc5b3e-e38d-4156-eb20-67ce2ed6063c"
      },
      "execution_count": null,
      "outputs": [
        {
          "output_type": "stream",
          "name": "stdout",
          "text": [
            "Tidak ditemukan outlier di kolom 'SepalLengthCm'.\n",
            "Nilai outliers ditemukan pada kolom 'SepalWidthCm': [4.4, 4.1, 4.2, 2.0]\n",
            "Tidak ditemukan outlier di kolom 'PetalLengthCm'.\n",
            "Tidak ditemukan outlier di kolom 'PetalWidthCm'.\n"
          ]
        }
      ]
    }
  ]
}