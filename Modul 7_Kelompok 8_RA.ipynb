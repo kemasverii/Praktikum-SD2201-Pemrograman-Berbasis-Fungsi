{
  "cells": [
    {
      "cell_type": "markdown",
      "metadata": {
        "id": "ENGTrnmUN83e"
      },
      "source": [
        "# Tugas Kelompok 8 RA"
      ]
    },
    {
      "cell_type": "markdown",
      "metadata": {
        "id": "5RwvDaU1OSL2"
      },
      "source": [
        "## Loading Dataset"
      ]
    },
    {
      "cell_type": "code",
      "execution_count": null,
      "metadata": {
        "colab": {
          "base_uri": "https://localhost:8080/"
        },
        "id": "v10gA779OdMO",
        "outputId": "61357a67-cb18-425d-da74-046fcc1a79d3"
      },
      "outputs": [],
      "source": [
        "# Path ke file Excel\n",
        "import pandas as pd\n",
        "import json\n",
        "from functools import reduce\n",
        "\n",
        "#import dataset\n",
        "df = pd.read_csv(\"D:\\Coding\\Python\\src\\PBF\\Praktikum PBF\\911_Calls_for_Service_(Last_30_Days).csv\")\n",
        "\n",
        "# cleaning data\n",
        "df = df.dropna(subset=['zip_code', 'neighborhood'])\n",
        "\n",
        "#mengubah dataset ke dalam bentuk list dictionary\n",
        "data = df.to_dict('records')\n",
        "data"
      ]
    },
    {
      "cell_type": "markdown",
      "metadata": {
        "id": "jWBpBf6HN83i"
      },
      "source": [
        "Bagian 1: Model Populasi Polisi Detroit\n",
        "\n",
        "Baca data dari file Laporan Polisi Detroit menggunakan modul csv dan terjemahkan data ke dalam daftar dictionary. Menggunakan Filter dengan fungsi lambda untuk mengecualikan dictionary (baris CSV) yang memiliki data yang hilang di kolom Zip, atau kolom Neighborhood. Dengan menggunakan fungsi lambda dan Reduce, hitung total waktu respons rata-rata, waktu pengiriman rata-rata, dan total waktu rata-rata untuk kepolisian Detroit."
      ]
    },
    {
      "cell_type": "code",
      "execution_count": 60,
      "metadata": {},
      "outputs": [
        {
          "name": "stdout",
          "output_type": "stream",
          "text": [
            "Total Response Time Average:  8.353615875764305\n",
            "Delivery Time Average:  20.679184026838374\n",
            "Total Time Average:  29.037051566473675\n"
          ]
        }
      ],
      "source": [
        "list_dict_output = []\n",
        "\n",
        "# Menggunakan Filter dengan fungsi lambda untuk mengecualikan dictionary (baris CSV) yang memiliki data yang hilang di kolom Zip, atau kolom Neighborhood.\n",
        "list_dict_output = list(\n",
        "    filter(\n",
        "        lambda x: x[\"zip_code\"]\n",
        "        and x[\"neighborhood\"]\n",
        "        and not pd.isna(x[\"totalresponsetime\"])\n",
        "        and not pd.isna(x[\"time_on_scene\"])\n",
        "        and not pd.isna(x[\"totaltime\"]),\n",
        "        data,\n",
        "    )\n",
        ")\n",
        "\n",
        "# Dengan menggunakan fungsi lambda dan Reduce, hitung total waktu respons rata-rata, waktu pengiriman rata-rata, dan total waktu rata-rata untuk kepolisian Detroit.\n",
        "# Menghitung total waktu respons rata-rata\n",
        "total_response_time = reduce(\n",
        "    lambda x, y: x + y,\n",
        "    map(lambda x: x.get(\"totalresponsetime\", 0), list_dict_output),\n",
        ") / len(list_dict_output)\n",
        "\n",
        "# Menghitung waktu pengiriman rata-rata\n",
        "delivery_time = reduce(\n",
        "    lambda x, y: x + y,\n",
        "    map(lambda x: int(x.get(\"time_on_scene\", 0) if not pd.isna(x.get(\"time_on_scene\", 0)) else 0), list_dict_output)\n",
        ") / len(list_dict_output)\n",
        "\n",
        "# Menghitung total waktu rata-rata\n",
        "total_time = reduce(\n",
        "    lambda x, y: x + y,\n",
        "    map(lambda x: int(x.get(\"totaltime\", 0) if not pd.isna(x.get(\"totaltime\", 0)) else 0), list_dict_output)\n",
        ") / len(list_dict_output)\n",
        "\n",
        "# print hasil dengan format keterangan\n",
        "print(\"Total Response Time Average: \", total_response_time)\n",
        "print(\"Delivery Time Average: \", delivery_time)\n",
        "print(\"Total Time Average: \", total_time)"
      ]
    },
    {
      "cell_type": "markdown",
      "metadata": {
        "id": "bf7Qbf1xN83j"
      },
      "source": [
        "Bagian 2: Modelkan Neighborhood Samples\n",
        "\n",
        "Menggunakan fungsi lambda dan map, atau lambda dan Filter, bagi list dictionary menjadi list dictionary yang lebih kecil yang dipisahkan oleh neighborhood. Dengan menggunakan lambda dan Reduce, temukan total waktu respons rata-rata untuk setiap neighborhood, waktu pengiriman rata-rata untuk setiap neighborhood, dan total waktu rata-rata untuk setiap neighborhood dan simpanlah ke dalam list dictionary. Tambahkan item dictioanary untuk menyertakan data populasi untuk semua Detroit dalam daftar gabungan Anda."
      ]
    },
    {
      "cell_type": "code",
      "execution_count": null,
      "metadata": {},
      "outputs": [],
      "source": [
        "neighborhoods = list(set(map(lambda x: x[\"neighborhood\"], list_dict_output)))\n",
        "\n",
        "# Mengelompokkan data berdasarkan neighborhood\n",
        "neighborhood_dict = {\n",
        "    neighborhood: list(filter(lambda x: x[\"neighborhood\"] == neighborhood, list_dict_output))\n",
        "    for neighborhood in neighborhoods\n",
        "}\n",
        "\n",
        "# Menghitung rata-rata waktu untuk setiap neighborhood\n",
        "neighborhood_averages = []\n",
        "\n",
        "for neighborhood, entries in neighborhood_dict.items():\n",
        "    total_response_time = reduce(\n",
        "        lambda x, y: x + y,\n",
        "        map(lambda x: float(x[\"totalresponsetime\"]) if not pd.isna(x[\"totalresponsetime\"]) else 0, entries)\n",
        "    ) / len(entries) if entries else 0\n",
        "\n",
        "    delivery_time = reduce(lambda x, y: x + y,\n",
        "        map(lambda x: int(x[\"time_on_scene\"]) if not pd.isna(x[\"time_on_scene\"]) else 0, entries)\n",
        "    ) / len(entries) if entries else 0\n",
        "\n",
        "    total_time = reduce(\n",
        "        lambda x, y: x + y,\n",
        "        map(lambda x: int(x[\"totaltime\"]) if not pd.isna(x[\"totaltime\"]) else 0, entries)\n",
        "    ) / len(entries) if entries else 0\n",
        "\n",
        "    neighborhood_averages.append({\n",
        "        \"neighborhood\": neighborhood,\n",
        "        \"average_total_response_time\": total_response_time,\n",
        "        \"average_delivery_time\": delivery_time,\n",
        "        \"average_total_time\": total_time,\n",
        "    })\n",
        "neighborhood_averages"
      ]
    },
    {
      "cell_type": "markdown",
      "metadata": {
        "id": "xahqT6zAN83k"
      },
      "source": [
        "Bagian 3: Buat file Output JSON\n",
        "\n",
        "Menggunakan modul JSON, format list dictionary Anda sebagai JSON"
      ]
    },
    {
      "cell_type": "code",
      "execution_count": 71,
      "metadata": {
        "colab": {
          "base_uri": "https://localhost:8080/"
        },
        "id": "bHZl-tY8PfUl",
        "outputId": "d800e9f1-9f72-4435-ec3c-6a0738041963"
      },
      "outputs": [
        {
          "name": "stdout",
          "output_type": "stream",
          "text": [
            "Output JSON created\n"
          ]
        }
      ],
      "source": [
        "with open(\"output.json\", \"w\") as f:\n",
        "    json.dump(neighborhood_averages, f)\n",
        "\n",
        "with open(\"output.json\", \"r\") as f:\n",
        "    data = json.load(f)\n",
        "# print hasil\n",
        "print(\"Output JSON created\")"
      ]
    }
  ],
  "metadata": {
    "colab": {
      "provenance": []
    },
    "kernelspec": {
      "display_name": "Python 3",
      "language": "python",
      "name": "python3"
    },
    "language_info": {
      "codemirror_mode": {
        "name": "ipython",
        "version": 3
      },
      "file_extension": ".py",
      "mimetype": "text/x-python",
      "name": "python",
      "nbconvert_exporter": "python",
      "pygments_lexer": "ipython3",
      "version": "3.11.5"
    }
  },
  "nbformat": 4,
  "nbformat_minor": 0
}
